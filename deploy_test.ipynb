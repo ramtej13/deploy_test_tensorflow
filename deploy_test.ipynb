{
 "cells": [
  {
   "cell_type": "code",
   "execution_count": 1,
   "metadata": {},
   "outputs": [],
   "source": [
    "import tensorflow as tf\n",
    "from tensorflow import keras\n",
    "\n",
    "# Helper libraries\n",
    "import numpy as np\n",
    "import matplotlib.pyplot as plt\n",
    "import os\n",
    "import subprocess"
   ]
  },
  {
   "cell_type": "code",
   "execution_count": 2,
   "metadata": {},
   "outputs": [],
   "source": [
    "fashion_mnist = keras.datasets.fashion_mnist\n",
    "(train_images, train_labels), (test_images, test_labels) = fashion_mnist.load_data()\n",
    "\n",
    "# scale the values to 0.0 to 1.0\n",
    "train_images = train_images / 255.0\n",
    "test_images = test_images / 255.0\n",
    "\n",
    "# reshape for feeding into the model\n",
    "train_images = train_images.reshape(train_images.shape[0], 28, 28, 1)\n",
    "test_images = test_images.reshape(test_images.shape[0], 28, 28, 1)\n",
    "\n",
    "class_names = ['T-shirt/top', 'Trouser', 'Pullover', 'Dress', 'Coat',\n",
    "               'Sandal', 'Shirt', 'Sneaker', 'Bag', 'Ankle boot']"
   ]
  },
  {
   "cell_type": "code",
   "execution_count": 3,
   "metadata": {},
   "outputs": [
    {
     "name": "stdout",
     "output_type": "stream",
     "text": [
      "Model: \"sequential\"\n",
      "_________________________________________________________________\n",
      "Layer (type)                 Output Shape              Param #   \n",
      "=================================================================\n",
      "Conv1 (Conv2D)               (None, 13, 13, 8)         80        \n",
      "_________________________________________________________________\n",
      "flatten (Flatten)            (None, 1352)              0         \n",
      "_________________________________________________________________\n",
      "Softmax (Dense)              (None, 10)                13530     \n",
      "=================================================================\n",
      "Total params: 13,610\n",
      "Trainable params: 13,610\n",
      "Non-trainable params: 0\n",
      "_________________________________________________________________\n",
      "1875/1875 [==============================] - 7s 4ms/step - loss: 0.5358 - accuracy: 0.8180\n",
      "313/313 [==============================] - 0s 2ms/step - loss: 0.4322 - accuracy: 0.8489\n",
      "\n",
      "Test accuracy: 0.8489000201225281\n"
     ]
    }
   ],
   "source": [
    "model = keras.Sequential([\n",
    "  keras.layers.Conv2D(input_shape=(28,28,1), filters=8, kernel_size=3, \n",
    "                      strides=2, activation='relu', name='Conv1'),\n",
    "  keras.layers.Flatten(),\n",
    "  keras.layers.Dense(10, activation=tf.nn.softmax, name='Softmax')\n",
    "])\n",
    "model.summary()\n",
    "\n",
    "testing = False\n",
    "epochs = 1\n",
    "\n",
    "model.compile(optimizer='adam', \n",
    "              loss='sparse_categorical_crossentropy',\n",
    "              metrics=['accuracy'])\n",
    "model.fit(train_images, train_labels, epochs=epochs)\n",
    "\n",
    "test_loss, test_acc = model.evaluate(test_images, test_labels)\n",
    "print('\\nTest accuracy: {}'.format(test_acc))"
   ]
  },
  {
   "cell_type": "code",
   "execution_count": 5,
   "metadata": {},
   "outputs": [
    {
     "name": "stdout",
     "output_type": "stream",
     "text": [
      "export_path = /Users/ramteja/Downloads/deploy_tensor/1\n",
      "\n",
      "INFO:tensorflow:Assets written to: /Users/ramteja/Downloads/deploy_tensor/1/assets\n"
     ]
    }
   ],
   "source": [
    "import os\n",
    "\n",
    "MODEL_DIR = os.getcwd()+\"\"\n",
    "version = 1\n",
    "export_path = os.path.join(MODEL_DIR, str(version))\n",
    "print('export_path = {}\\n'.format(export_path))\n",
    "\n",
    "tf.keras.models.save_model(\n",
    "    model,\n",
    "    export_path,\n",
    "    overwrite=True,\n",
    "    include_optimizer=True,\n",
    "    save_format=None,\n",
    "    signatures=None,\n",
    "    options=None\n",
    ")\n"
   ]
  },
  {
   "cell_type": "markdown",
   "metadata": {},
   "source": [
    "\n",
    "export_path = /Users/ramteja/Downloads/deploy_tensor/1\n",
    "\n",
    "running these comands in the start docker with tenserflow serving\n",
    "\n",
    "$ docker pull tensorflow/serving\n",
    "\n",
    "-----> problem is at this command i am not able figurout bro it shows it is not able to fine the path. \n",
    "\n",
    "try one:\n",
    "$ docker run -p 8501:8501 --mount type=bind,source=/Users/ramteja/Downloads/deploy_tensor/1,target=/models/1 -e MODEL_NAME=test_model -t tensorflow/serving\n",
    "\n",
    "Error:\n",
    "2020-10-13 17:41:14.543070: I tensorflow_serving/model_servers/server.cc:87] Building single TensorFlow model file config:  model_name: test_model model_base_path: /models/test_model\n",
    "2020-10-13 17:41:14.543342: I tensorflow_serving/model_servers/server_core.cc:464] Adding/updating models.\n",
    "2020-10-13 17:41:14.543903: I tensorflow_serving/model_servers/server_core.cc:575]  (Re-)adding model: test_model\n",
    "2020-10-13 17:41:14.547615: E tensorflow_serving/sources/storage_path/file_system_storage_path_source.cc:362] FileSystemStoragePathSource encountered a filesystem access error: Could not find base path /models/test_model for servable test_model\n",
    "2020-10-13 17:41:15.551822: E tensorflow_serving/sources/storage_path/file_system_storage_path_source.cc:362] FileSystemStoragePathSource encountered a filesystem access error: Could not find base path /models/test_model for servable test_model\n",
    "\n",
    "\n",
    "\n",
    "\n",
    "Try two:\n",
    "$ docker run -p 8501:8501 --mount type=bind,source=/Users/ramteja/Downloads/deploy_tensor/1,target=/models/test_model -e MODEL_NAME=test_model -t tensorflow/serving\n",
    "\n",
    "Error:\n",
    "\n",
    "2020-10-13 17:39:57.973846: I tensorflow_serving/model_servers/server.cc:87] Building single TensorFlow model file config:  model_name: test_model model_base_path: /models/test_model\n",
    "2020-10-13 17:39:57.978167: I tensorflow_serving/model_servers/server_core.cc:464] Adding/updating models.\n",
    "2020-10-13 17:39:57.978578: I tensorflow_serving/model_servers/server_core.cc:575]  (Re-)adding model: test_model\n",
    "2020-10-13 17:39:57.997829: W tensorflow_serving/sources/storage_path/file_system_storage_path_source.cc:267] No versions of servable test_model found under base path /models/test_model\n",
    "\n",
    "\n",
    "\n",
    "\n",
    "Extra info:\n",
    "i tryed default as show in this every thing works \n",
    "\n",
    "# Download the TensorFlow Serving Docker image and repo\n",
    "docker pull tensorflow/serving\n",
    "\n",
    "git clone https://github.com/tensorflow/serving\n",
    "# Location of demo models\n",
    "TESTDATA=\"$(pwd)/serving/tensorflow_serving/servables/tensorflow/testdata\"\n",
    "\n",
    "# Start TensorFlow Serving container and open the REST API port\n",
    "docker run -t --rm -p 8501:8501 \\\n",
    "    -v \"$TESTDATA/saved_model_half_plus_two_cpu:/models/half_plus_two\" \\\n",
    "    -e MODEL_NAME=half_plus_two \\\n",
    "    tensorflow/serving &\n",
    "\n",
    "# Query the model using the predict API\n",
    "curl -d '{\"instances\": [1.0, 2.0, 5.0]}' \\\n",
    "    -X POST http://localhost:8501/v1/models/half_plus_two:predict\n",
    "\n",
    "# Returns => { \"predictions\": [2.5, 3.0, 4.5] }\n"
   ]
  },
  {
   "cell_type": "code",
   "execution_count": null,
   "metadata": {},
   "outputs": [],
   "source": []
  }
 ],
 "metadata": {
  "kernelspec": {
   "display_name": "Python 3",
   "language": "python",
   "name": "python3"
  },
  "language_info": {
   "codemirror_mode": {
    "name": "ipython",
    "version": 3
   },
   "file_extension": ".py",
   "mimetype": "text/x-python",
   "name": "python",
   "nbconvert_exporter": "python",
   "pygments_lexer": "ipython3",
   "version": "3.8.3"
  }
 },
 "nbformat": 4,
 "nbformat_minor": 4
}
